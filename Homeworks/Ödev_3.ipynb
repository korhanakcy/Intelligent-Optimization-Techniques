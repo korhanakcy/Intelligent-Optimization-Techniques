{
  "nbformat": 4,
  "nbformat_minor": 0,
  "metadata": {
    "colab": {
      "provenance": []
    },
    "kernelspec": {
      "name": "python3",
      "display_name": "Python 3"
    },
    "language_info": {
      "name": "python"
    }
  },
  "cells": [
    {
      "cell_type": "code",
      "execution_count": 3,
      "metadata": {
        "colab": {
          "base_uri": "https://localhost:8080/"
        },
        "id": "se3XGjDh6Czd",
        "outputId": "f1e3181f-5975-4ccd-8844-22c3786285fa"
      },
      "outputs": [
        {
          "output_type": "stream",
          "name": "stdout",
          "text": [
            "[[ 7 -4]\n",
            " [-4  6]]\n",
            "The Hessian matrix is positive definite, so the function has a minimum.\n"
          ]
        }
      ],
      "source": [
        "import numpy as np\n",
        "\n",
        "# Define the constants\n",
        "\n",
        "k1 = 2\n",
        "k2 = 3\n",
        "k3 = 4\n",
        "P = 5\n",
        "\n",
        "# Define the gradient of U with respect to x1 and x2\n",
        "\n",
        "def grad_U(x):\n",
        "    x1, x2 = x\n",
        "    dU_dx1 = k2*x1 - k3*(x2-x1)\n",
        "    dU_dx2 = k3*(x2-x1) + k1*x2 - P\n",
        "    return np.array([dU_dx1, dU_dx2])\n",
        "\n",
        "# Define the Hessian matrix of U\n",
        "\n",
        "def hessian_U(x):\n",
        "    x1, x2 = x\n",
        "    d2U_dx1dx1 = k2+k3\n",
        "    d2U_dx1dx2 = -k3\n",
        "    d2U_dx2dx1 = -k3\n",
        "    d2U_dx2dx2 = k1+k3\n",
        "    return np.array([[d2U_dx1dx1, d2U_dx1dx2], [d2U_dx2dx1, d2U_dx2dx2]])\n",
        "\n",
        "# Define a function to find the minimum of U\n",
        "\n",
        "def find_minimum_U():\n",
        "    # Compute the values of x1 and x2 that minimize U\n",
        "    J = hessian_U([P*k3/(k1*k2+k1*k3+k2*k3), P*(k2+k3)/(k1*k2+k1*k3+k2*k3)])\n",
        "    if np.linalg.det(J) > 0:\n",
        "        return J\n",
        "    else:\n",
        "        return \"Hessian matrix is not positive definite\"\n",
        "\n",
        "# Call the function to find the minimum value of U\n",
        "\n",
        "result = find_minimum_U()\n",
        "print(result)\n",
        "\n",
        "# find_minimum_U function and print the result\n",
        "\n",
        "J = find_minimum_U()\n",
        "if J is not None:\n",
        "    print(\"The Hessian matrix is positive definite, so the function has a minimum.\")\n",
        "else:\n",
        "    print(\"The Hessian matrix is not positive definite, so the function may not have a minimum.\")\n"
      ]
    }
  ]
}